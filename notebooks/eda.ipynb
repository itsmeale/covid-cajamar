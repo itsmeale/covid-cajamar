{
 "cells": [
  {
   "cell_type": "markdown",
   "id": "lightweight-priority",
   "metadata": {},
   "source": [
    "# Visualizações dos dados de covid para a cidade de cajamar"
   ]
  },
  {
   "cell_type": "code",
   "execution_count": 90,
   "id": "secret-giant",
   "metadata": {},
   "outputs": [],
   "source": [
    "import pandas as pd\n",
    "import seaborn as sns\n",
    "\n",
    "from covid_cajamar.config import settings"
   ]
  },
  {
   "cell_type": "code",
   "execution_count": 91,
   "id": "pending-sullivan",
   "metadata": {},
   "outputs": [],
   "source": [
    "covid_data = pd.read_csv(\"../data/interim/covid_data.csv\")\n",
    "covid_data_pre_disease = pd.read_csv(\"../data/interim/covid_data_pre_disease.csv\")"
   ]
  },
  {
   "cell_type": "code",
   "execution_count": 92,
   "id": "maritime-surname",
   "metadata": {},
   "outputs": [
    {
     "data": {
      "text/html": [
       "<div>\n",
       "<style scoped>\n",
       "    .dataframe tbody tr th:only-of-type {\n",
       "        vertical-align: middle;\n",
       "    }\n",
       "\n",
       "    .dataframe tbody tr th {\n",
       "        vertical-align: top;\n",
       "    }\n",
       "\n",
       "    .dataframe thead th {\n",
       "        text-align: right;\n",
       "    }\n",
       "</style>\n",
       "<table border=\"1\" class=\"dataframe\">\n",
       "  <thead>\n",
       "    <tr style=\"text-align: right;\">\n",
       "      <th></th>\n",
       "      <th>nome_munic</th>\n",
       "      <th>codigo_ibge</th>\n",
       "      <th>datahora</th>\n",
       "      <th>casos</th>\n",
       "      <th>casos_mm7d</th>\n",
       "      <th>obitos</th>\n",
       "      <th>obitos_mm7d</th>\n",
       "      <th>letalidade</th>\n",
       "    </tr>\n",
       "  </thead>\n",
       "  <tbody>\n",
       "    <tr>\n",
       "      <th>0</th>\n",
       "      <td>Cajamar</td>\n",
       "      <td>3509205</td>\n",
       "      <td>2020-02-25</td>\n",
       "      <td>0</td>\n",
       "      <td>0.0</td>\n",
       "      <td>0</td>\n",
       "      <td>0.0</td>\n",
       "      <td>0.0</td>\n",
       "    </tr>\n",
       "    <tr>\n",
       "      <th>1</th>\n",
       "      <td>Cajamar</td>\n",
       "      <td>3509205</td>\n",
       "      <td>2020-02-26</td>\n",
       "      <td>0</td>\n",
       "      <td>0.0</td>\n",
       "      <td>0</td>\n",
       "      <td>0.0</td>\n",
       "      <td>0.0</td>\n",
       "    </tr>\n",
       "    <tr>\n",
       "      <th>2</th>\n",
       "      <td>Cajamar</td>\n",
       "      <td>3509205</td>\n",
       "      <td>2020-02-27</td>\n",
       "      <td>0</td>\n",
       "      <td>0.0</td>\n",
       "      <td>0</td>\n",
       "      <td>0.0</td>\n",
       "      <td>0.0</td>\n",
       "    </tr>\n",
       "    <tr>\n",
       "      <th>3</th>\n",
       "      <td>Cajamar</td>\n",
       "      <td>3509205</td>\n",
       "      <td>2020-02-28</td>\n",
       "      <td>0</td>\n",
       "      <td>0.0</td>\n",
       "      <td>0</td>\n",
       "      <td>0.0</td>\n",
       "      <td>0.0</td>\n",
       "    </tr>\n",
       "    <tr>\n",
       "      <th>4</th>\n",
       "      <td>Cajamar</td>\n",
       "      <td>3509205</td>\n",
       "      <td>2020-02-29</td>\n",
       "      <td>0</td>\n",
       "      <td>0.0</td>\n",
       "      <td>0</td>\n",
       "      <td>0.0</td>\n",
       "      <td>0.0</td>\n",
       "    </tr>\n",
       "  </tbody>\n",
       "</table>\n",
       "</div>"
      ],
      "text/plain": [
       "  nome_munic  codigo_ibge    datahora  casos  casos_mm7d  obitos  obitos_mm7d  \\\n",
       "0    Cajamar      3509205  2020-02-25      0         0.0       0          0.0   \n",
       "1    Cajamar      3509205  2020-02-26      0         0.0       0          0.0   \n",
       "2    Cajamar      3509205  2020-02-27      0         0.0       0          0.0   \n",
       "3    Cajamar      3509205  2020-02-28      0         0.0       0          0.0   \n",
       "4    Cajamar      3509205  2020-02-29      0         0.0       0          0.0   \n",
       "\n",
       "   letalidade  \n",
       "0         0.0  \n",
       "1         0.0  \n",
       "2         0.0  \n",
       "3         0.0  \n",
       "4         0.0  "
      ]
     },
     "execution_count": 92,
     "metadata": {},
     "output_type": "execute_result"
    }
   ],
   "source": [
    "covid_data.head()"
   ]
  },
  {
   "cell_type": "code",
   "execution_count": 93,
   "id": "intellectual-bundle",
   "metadata": {},
   "outputs": [],
   "source": [
    "covid_data_pre_disease = covid_data_pre_disease.infer_objects()"
   ]
  },
  {
   "cell_type": "code",
   "execution_count": 94,
   "id": "impaired-crystal",
   "metadata": {},
   "outputs": [
    {
     "data": {
      "text/html": [
       "<div>\n",
       "<style scoped>\n",
       "    .dataframe tbody tr th:only-of-type {\n",
       "        vertical-align: middle;\n",
       "    }\n",
       "\n",
       "    .dataframe tbody tr th {\n",
       "        vertical-align: top;\n",
       "    }\n",
       "\n",
       "    .dataframe thead th {\n",
       "        text-align: right;\n",
       "    }\n",
       "</style>\n",
       "<table border=\"1\" class=\"dataframe\">\n",
       "  <thead>\n",
       "    <tr style=\"text-align: right;\">\n",
       "      <th></th>\n",
       "      <th>nome_munic</th>\n",
       "      <th>codigo_ibge</th>\n",
       "      <th>idade</th>\n",
       "      <th>diagnostico_covid19</th>\n",
       "      <th>data_inicio_sintomas</th>\n",
       "      <th>obito</th>\n",
       "    </tr>\n",
       "  </thead>\n",
       "  <tbody>\n",
       "    <tr>\n",
       "      <th>0</th>\n",
       "      <td>Cajamar</td>\n",
       "      <td>3509205</td>\n",
       "      <td>43.0</td>\n",
       "      <td>CONFIRMADO</td>\n",
       "      <td>2020-07-16</td>\n",
       "      <td>0</td>\n",
       "    </tr>\n",
       "    <tr>\n",
       "      <th>1</th>\n",
       "      <td>Cajamar</td>\n",
       "      <td>3509205</td>\n",
       "      <td>56.0</td>\n",
       "      <td>CONFIRMADO</td>\n",
       "      <td>2020-07-01</td>\n",
       "      <td>0</td>\n",
       "    </tr>\n",
       "    <tr>\n",
       "      <th>2</th>\n",
       "      <td>Cajamar</td>\n",
       "      <td>3509205</td>\n",
       "      <td>28.0</td>\n",
       "      <td>CONFIRMADO</td>\n",
       "      <td>2020-08-12</td>\n",
       "      <td>0</td>\n",
       "    </tr>\n",
       "    <tr>\n",
       "      <th>3</th>\n",
       "      <td>Cajamar</td>\n",
       "      <td>3509205</td>\n",
       "      <td>55.0</td>\n",
       "      <td>CONFIRMADO</td>\n",
       "      <td>2020-09-13</td>\n",
       "      <td>1</td>\n",
       "    </tr>\n",
       "    <tr>\n",
       "      <th>4</th>\n",
       "      <td>Cajamar</td>\n",
       "      <td>3509205</td>\n",
       "      <td>36.0</td>\n",
       "      <td>CONFIRMADO</td>\n",
       "      <td>2021-02-07</td>\n",
       "      <td>0</td>\n",
       "    </tr>\n",
       "  </tbody>\n",
       "</table>\n",
       "</div>"
      ],
      "text/plain": [
       "  nome_munic  codigo_ibge  idade diagnostico_covid19 data_inicio_sintomas  \\\n",
       "0    Cajamar      3509205   43.0          CONFIRMADO           2020-07-16   \n",
       "1    Cajamar      3509205   56.0          CONFIRMADO           2020-07-01   \n",
       "2    Cajamar      3509205   28.0          CONFIRMADO           2020-08-12   \n",
       "3    Cajamar      3509205   55.0          CONFIRMADO           2020-09-13   \n",
       "4    Cajamar      3509205   36.0          CONFIRMADO           2021-02-07   \n",
       "\n",
       "   obito  \n",
       "0      0  \n",
       "1      0  \n",
       "2      0  \n",
       "3      1  \n",
       "4      0  "
      ]
     },
     "execution_count": 94,
     "metadata": {},
     "output_type": "execute_result"
    }
   ],
   "source": [
    "covid_data_pre_disease.head()"
   ]
  },
  {
   "cell_type": "code",
   "execution_count": 125,
   "id": "indian-moore",
   "metadata": {},
   "outputs": [],
   "source": [
    "covid_data_pre_disease[\"faixa_etaria\"] = pd.cut(covid_data_pre_disease.idade, bins=4).astype(str)"
   ]
  },
  {
   "cell_type": "markdown",
   "id": "confident-nicholas",
   "metadata": {},
   "source": [
    "## qual o cenário da média movel (7d) de novos casos?"
   ]
  },
  {
   "cell_type": "code",
   "execution_count": 126,
   "id": "strange-currency",
   "metadata": {},
   "outputs": [
    {
     "data": {
      "text/plain": [
       "<AxesSubplot:xlabel='datahora', ylabel='casos_mm7d'>"
      ]
     },
     "execution_count": 126,
     "metadata": {},
     "output_type": "execute_result"
    },
    {
     "data": {
      "image/png": "[encoded data removed]",
      "text/plain": [
       "<Figure size 432x288 with 1 Axes>"
      ]
     },
     "metadata": {
      "needs_background": "light"
     },
     "output_type": "display_data"
    }
   ],
   "source": [
    "sns.lineplot(x=\"datahora\", y=\"casos_mm7d\", data=covid_data)"
   ]
  },
  {
   "cell_type": "markdown",
   "id": "plastic-villa",
   "metadata": {},
   "source": [
    "## qual o cenario da média movel (7d) de obitos?"
   ]
  },
  {
   "cell_type": "code",
   "execution_count": 127,
   "id": "identified-pottery",
   "metadata": {},
   "outputs": [
    {
     "data": {
      "text/plain": [
       "<AxesSubplot:xlabel='datahora', ylabel='obitos'>"
      ]
     },
     "execution_count": 127,
     "metadata": {},
     "output_type": "execute_result"
    },
    {
     "data": {
      "image/png": "[encoded data removed]",
      "text/plain": [
       "<Figure size 432x288 with 1 Axes>"
      ]
     },
     "metadata": {
      "needs_background": "light"
     },
     "output_type": "display_data"
    }
   ],
   "source": [
    "sns.lineplot(x=\"datahora\", y=\"obitos\", data=covid_data)"
   ]
  },
  {
   "cell_type": "markdown",
   "id": "compatible-horse",
   "metadata": {},
   "source": [
    "## qual a distribuição de casos por idade?"
   ]
  },
  {
   "cell_type": "code",
   "execution_count": 128,
   "id": "bibliographic-tattoo",
   "metadata": {},
   "outputs": [],
   "source": [
    "grouped = covid_data_pre_disease.groupby([\"faixa_etaria\", \"obito\"]).agg({\"codigo_ibge\": \"count\"}).reset_index().rename(columns={\"codigo_ibge\": \"contagem\"})\n",
    "# sns.lineplot(x=\"data_inicio_sintomas\", y=\"obitos\", data=covid_data)"
   ]
  },
  {
   "cell_type": "code",
   "execution_count": 129,
   "id": "turkish-cutting",
   "metadata": {},
   "outputs": [
    {
     "data": {
      "text/plain": [
       "<AxesSubplot:xlabel='faixa_etaria', ylabel='contagem'>"
      ]
     },
     "execution_count": 129,
     "metadata": {},
     "output_type": "execute_result"
    },
    {
     "data": {
      "image/png": "[encoded data removed]",
      "text/plain": [
       "<Figure size 432x288 with 1 Axes>"
      ]
     },
     "metadata": {
      "needs_background": "light"
     },
     "output_type": "display_data"
    }
   ],
   "source": [
    "sns.barplot(x=\"faixa_etaria\", y=\"contagem\", hue=\"obito\", data=grouped)"
   ]
  },
  {
   "cell_type": "markdown",
   "id": "increasing-kruger",
   "metadata": {},
   "source": [
    "## como é a evolução temporal de novos casos por faixa etaria?"
   ]
  },
  {
   "cell_type": "code",
   "execution_count": 130,
   "id": "handed-score",
   "metadata": {},
   "outputs": [
    {
     "data": {
      "text/html": [
       "<div>\n",
       "<style scoped>\n",
       "    .dataframe tbody tr th:only-of-type {\n",
       "        vertical-align: middle;\n",
       "    }\n",
       "\n",
       "    .dataframe tbody tr th {\n",
       "        vertical-align: top;\n",
       "    }\n",
       "\n",
       "    .dataframe thead th {\n",
       "        text-align: right;\n",
       "    }\n",
       "</style>\n",
       "<table border=\"1\" class=\"dataframe\">\n",
       "  <thead>\n",
       "    <tr style=\"text-align: right;\">\n",
       "      <th></th>\n",
       "      <th>nome_munic</th>\n",
       "      <th>codigo_ibge</th>\n",
       "      <th>idade</th>\n",
       "      <th>diagnostico_covid19</th>\n",
       "      <th>data_inicio_sintomas</th>\n",
       "      <th>obito</th>\n",
       "      <th>faixa_etaria</th>\n",
       "      <th>mes_ano</th>\n",
       "    </tr>\n",
       "  </thead>\n",
       "  <tbody>\n",
       "    <tr>\n",
       "      <th>0</th>\n",
       "      <td>Cajamar</td>\n",
       "      <td>3509205</td>\n",
       "      <td>43.0</td>\n",
       "      <td>CONFIRMADO</td>\n",
       "      <td>2020-07-16</td>\n",
       "      <td>0</td>\n",
       "      <td>(24.25, 48.5]</td>\n",
       "      <td>2020-07</td>\n",
       "    </tr>\n",
       "    <tr>\n",
       "      <th>1</th>\n",
       "      <td>Cajamar</td>\n",
       "      <td>3509205</td>\n",
       "      <td>56.0</td>\n",
       "      <td>CONFIRMADO</td>\n",
       "      <td>2020-07-01</td>\n",
       "      <td>0</td>\n",
       "      <td>(48.5, 72.75]</td>\n",
       "      <td>2020-07</td>\n",
       "    </tr>\n",
       "    <tr>\n",
       "      <th>2</th>\n",
       "      <td>Cajamar</td>\n",
       "      <td>3509205</td>\n",
       "      <td>28.0</td>\n",
       "      <td>CONFIRMADO</td>\n",
       "      <td>2020-08-12</td>\n",
       "      <td>0</td>\n",
       "      <td>(24.25, 48.5]</td>\n",
       "      <td>2020-08</td>\n",
       "    </tr>\n",
       "    <tr>\n",
       "      <th>3</th>\n",
       "      <td>Cajamar</td>\n",
       "      <td>3509205</td>\n",
       "      <td>55.0</td>\n",
       "      <td>CONFIRMADO</td>\n",
       "      <td>2020-09-13</td>\n",
       "      <td>1</td>\n",
       "      <td>(48.5, 72.75]</td>\n",
       "      <td>2020-09</td>\n",
       "    </tr>\n",
       "    <tr>\n",
       "      <th>4</th>\n",
       "      <td>Cajamar</td>\n",
       "      <td>3509205</td>\n",
       "      <td>36.0</td>\n",
       "      <td>CONFIRMADO</td>\n",
       "      <td>2021-02-07</td>\n",
       "      <td>0</td>\n",
       "      <td>(24.25, 48.5]</td>\n",
       "      <td>2021-02</td>\n",
       "    </tr>\n",
       "    <tr>\n",
       "      <th>...</th>\n",
       "      <td>...</td>\n",
       "      <td>...</td>\n",
       "      <td>...</td>\n",
       "      <td>...</td>\n",
       "      <td>...</td>\n",
       "      <td>...</td>\n",
       "      <td>...</td>\n",
       "      <td>...</td>\n",
       "    </tr>\n",
       "    <tr>\n",
       "      <th>2555</th>\n",
       "      <td>Cajamar</td>\n",
       "      <td>3509205</td>\n",
       "      <td>30.0</td>\n",
       "      <td>CONFIRMADO</td>\n",
       "      <td>2020-12-30</td>\n",
       "      <td>0</td>\n",
       "      <td>(24.25, 48.5]</td>\n",
       "      <td>2020-12</td>\n",
       "    </tr>\n",
       "    <tr>\n",
       "      <th>2556</th>\n",
       "      <td>Cajamar</td>\n",
       "      <td>3509205</td>\n",
       "      <td>51.0</td>\n",
       "      <td>CONFIRMADO</td>\n",
       "      <td>2021-02-18</td>\n",
       "      <td>0</td>\n",
       "      <td>(48.5, 72.75]</td>\n",
       "      <td>2021-02</td>\n",
       "    </tr>\n",
       "    <tr>\n",
       "      <th>2557</th>\n",
       "      <td>Cajamar</td>\n",
       "      <td>3509205</td>\n",
       "      <td>19.0</td>\n",
       "      <td>CONFIRMADO</td>\n",
       "      <td>2020-12-02</td>\n",
       "      <td>0</td>\n",
       "      <td>(-0.097, 24.25]</td>\n",
       "      <td>2020-12</td>\n",
       "    </tr>\n",
       "    <tr>\n",
       "      <th>2558</th>\n",
       "      <td>Cajamar</td>\n",
       "      <td>3509205</td>\n",
       "      <td>40.0</td>\n",
       "      <td>CONFIRMADO</td>\n",
       "      <td>2020-06-30</td>\n",
       "      <td>0</td>\n",
       "      <td>(24.25, 48.5]</td>\n",
       "      <td>2020-06</td>\n",
       "    </tr>\n",
       "    <tr>\n",
       "      <th>2559</th>\n",
       "      <td>Cajamar</td>\n",
       "      <td>3509205</td>\n",
       "      <td>33.0</td>\n",
       "      <td>CONFIRMADO</td>\n",
       "      <td>2020-04-14</td>\n",
       "      <td>0</td>\n",
       "      <td>(24.25, 48.5]</td>\n",
       "      <td>2020-04</td>\n",
       "    </tr>\n",
       "  </tbody>\n",
       "</table>\n",
       "<p>2560 rows × 8 columns</p>\n",
       "</div>"
      ],
      "text/plain": [
       "     nome_munic  codigo_ibge  idade diagnostico_covid19 data_inicio_sintomas  \\\n",
       "0       Cajamar      3509205   43.0          CONFIRMADO           2020-07-16   \n",
       "1       Cajamar      3509205   56.0          CONFIRMADO           2020-07-01   \n",
       "2       Cajamar      3509205   28.0          CONFIRMADO           2020-08-12   \n",
       "3       Cajamar      3509205   55.0          CONFIRMADO           2020-09-13   \n",
       "4       Cajamar      3509205   36.0          CONFIRMADO           2021-02-07   \n",
       "...         ...          ...    ...                 ...                  ...   \n",
       "2555    Cajamar      3509205   30.0          CONFIRMADO           2020-12-30   \n",
       "2556    Cajamar      3509205   51.0          CONFIRMADO           2021-02-18   \n",
       "2557    Cajamar      3509205   19.0          CONFIRMADO           2020-12-02   \n",
       "2558    Cajamar      3509205   40.0          CONFIRMADO           2020-06-30   \n",
       "2559    Cajamar      3509205   33.0          CONFIRMADO           2020-04-14   \n",
       "\n",
       "      obito     faixa_etaria  mes_ano  \n",
       "0         0    (24.25, 48.5]  2020-07  \n",
       "1         0    (48.5, 72.75]  2020-07  \n",
       "2         0    (24.25, 48.5]  2020-08  \n",
       "3         1    (48.5, 72.75]  2020-09  \n",
       "4         0    (24.25, 48.5]  2021-02  \n",
       "...     ...              ...      ...  \n",
       "2555      0    (24.25, 48.5]  2020-12  \n",
       "2556      0    (48.5, 72.75]  2021-02  \n",
       "2557      0  (-0.097, 24.25]  2020-12  \n",
       "2558      0    (24.25, 48.5]  2020-06  \n",
       "2559      0    (24.25, 48.5]  2020-04  \n",
       "\n",
       "[2560 rows x 8 columns]"
      ]
     },
     "execution_count": 130,
     "metadata": {},
     "output_type": "execute_result"
    }
   ],
   "source": [
    "covid_data_pre_disease"
   ]
  },
  {
   "cell_type": "code",
   "execution_count": 131,
   "id": "rough-effort",
   "metadata": {},
   "outputs": [],
   "source": [
    "covid_data_pre_disease[\"data_inicio_sintomas\"] = pd.to_datetime(covid_data_pre_disease[\"data_inicio_sintomas\"])\n",
    "covid_data_pre_disease[\"mes_ano\"] = covid_data_pre_disease[\"data_inicio_sintomas\"].dt.to_period(\"M\").astype(\"str\")"
   ]
  },
  {
   "cell_type": "code",
   "execution_count": 132,
   "id": "charged-convert",
   "metadata": {},
   "outputs": [
    {
     "data": {
      "text/html": [
       "<div>\n",
       "<style scoped>\n",
       "    .dataframe tbody tr th:only-of-type {\n",
       "        vertical-align: middle;\n",
       "    }\n",
       "\n",
       "    .dataframe tbody tr th {\n",
       "        vertical-align: top;\n",
       "    }\n",
       "\n",
       "    .dataframe thead th {\n",
       "        text-align: right;\n",
       "    }\n",
       "</style>\n",
       "<table border=\"1\" class=\"dataframe\">\n",
       "  <thead>\n",
       "    <tr style=\"text-align: right;\">\n",
       "      <th></th>\n",
       "      <th>nome_munic</th>\n",
       "      <th>codigo_ibge</th>\n",
       "      <th>idade</th>\n",
       "      <th>diagnostico_covid19</th>\n",
       "      <th>data_inicio_sintomas</th>\n",
       "      <th>obito</th>\n",
       "      <th>faixa_etaria</th>\n",
       "      <th>mes_ano</th>\n",
       "    </tr>\n",
       "  </thead>\n",
       "  <tbody>\n",
       "    <tr>\n",
       "      <th>0</th>\n",
       "      <td>Cajamar</td>\n",
       "      <td>3509205</td>\n",
       "      <td>43.0</td>\n",
       "      <td>CONFIRMADO</td>\n",
       "      <td>2020-07-16</td>\n",
       "      <td>0</td>\n",
       "      <td>(24.25, 48.5]</td>\n",
       "      <td>2020-07</td>\n",
       "    </tr>\n",
       "    <tr>\n",
       "      <th>1</th>\n",
       "      <td>Cajamar</td>\n",
       "      <td>3509205</td>\n",
       "      <td>56.0</td>\n",
       "      <td>CONFIRMADO</td>\n",
       "      <td>2020-07-01</td>\n",
       "      <td>0</td>\n",
       "      <td>(48.5, 72.75]</td>\n",
       "      <td>2020-07</td>\n",
       "    </tr>\n",
       "    <tr>\n",
       "      <th>2</th>\n",
       "      <td>Cajamar</td>\n",
       "      <td>3509205</td>\n",
       "      <td>28.0</td>\n",
       "      <td>CONFIRMADO</td>\n",
       "      <td>2020-08-12</td>\n",
       "      <td>0</td>\n",
       "      <td>(24.25, 48.5]</td>\n",
       "      <td>2020-08</td>\n",
       "    </tr>\n",
       "    <tr>\n",
       "      <th>3</th>\n",
       "      <td>Cajamar</td>\n",
       "      <td>3509205</td>\n",
       "      <td>55.0</td>\n",
       "      <td>CONFIRMADO</td>\n",
       "      <td>2020-09-13</td>\n",
       "      <td>1</td>\n",
       "      <td>(48.5, 72.75]</td>\n",
       "      <td>2020-09</td>\n",
       "    </tr>\n",
       "    <tr>\n",
       "      <th>4</th>\n",
       "      <td>Cajamar</td>\n",
       "      <td>3509205</td>\n",
       "      <td>36.0</td>\n",
       "      <td>CONFIRMADO</td>\n",
       "      <td>2021-02-07</td>\n",
       "      <td>0</td>\n",
       "      <td>(24.25, 48.5]</td>\n",
       "      <td>2021-02</td>\n",
       "    </tr>\n",
       "  </tbody>\n",
       "</table>\n",
       "</div>"
      ],
      "text/plain": [
       "  nome_munic  codigo_ibge  idade diagnostico_covid19 data_inicio_sintomas  \\\n",
       "0    Cajamar      3509205   43.0          CONFIRMADO           2020-07-16   \n",
       "1    Cajamar      3509205   56.0          CONFIRMADO           2020-07-01   \n",
       "2    Cajamar      3509205   28.0          CONFIRMADO           2020-08-12   \n",
       "3    Cajamar      3509205   55.0          CONFIRMADO           2020-09-13   \n",
       "4    Cajamar      3509205   36.0          CONFIRMADO           2021-02-07   \n",
       "\n",
       "   obito   faixa_etaria  mes_ano  \n",
       "0      0  (24.25, 48.5]  2020-07  \n",
       "1      0  (48.5, 72.75]  2020-07  \n",
       "2      0  (24.25, 48.5]  2020-08  \n",
       "3      1  (48.5, 72.75]  2020-09  \n",
       "4      0  (24.25, 48.5]  2021-02  "
      ]
     },
     "execution_count": 132,
     "metadata": {},
     "output_type": "execute_result"
    }
   ],
   "source": [
    "covid_data_pre_disease.head()"
   ]
  },
  {
   "cell_type": "code",
   "execution_count": 133,
   "id": "immediate-enough",
   "metadata": {},
   "outputs": [],
   "source": [
    "grouped = covid_data_pre_disease.groupby([\"faixa_etaria\", \"mes_ano\"]).agg({\"diagnostico_covid19\": \"count\"}).reset_index()\n",
    "grouped[\"diagnostico_covid19_cumsum\"] = grouped.groupby(\"faixa_etaria\")[\"diagnostico_covid19\"].cumsum()"
   ]
  },
  {
   "cell_type": "code",
   "execution_count": 134,
   "id": "african-responsibility",
   "metadata": {},
   "outputs": [
    {
     "data": {
      "text/plain": [
       "<AxesSubplot:xlabel='mes_ano', ylabel='diagnostico_covid19_cumsum'>"
      ]
     },
     "execution_count": 134,
     "metadata": {},
     "output_type": "execute_result"
    },
    {
     "data": {
      "image/png": "[encoded data removed]",
      "text/plain": [
       "<Figure size 432x288 with 1 Axes>"
      ]
     },
     "metadata": {
      "needs_background": "light"
     },
     "output_type": "display_data"
    }
   ],
   "source": [
    "sns.lineplot(x=\"mes_ano\", y=\"diagnostico_covid19_cumsum\", hue=\"faixa_etaria\", data=grouped)"
   ]
  },
  {
   "cell_type": "markdown",
   "id": "nuclear-giving",
   "metadata": {},
   "source": [
    "## como é a evolução de obitos por faixa etaria?"
   ]
  },
  {
   "cell_type": "code",
   "execution_count": 135,
   "id": "unlikely-douglas",
   "metadata": {},
   "outputs": [
    {
     "data": {
      "text/plain": [
       "<AxesSubplot:xlabel='mes_ano', ylabel='obitos_cumsum'>"
      ]
     },
     "execution_count": 135,
     "metadata": {},
     "output_type": "execute_result"
    },
    {
     "data": {
      "image/png": "[encoded data removed]",
      "text/plain": [
       "<Figure size 432x288 with 1 Axes>"
      ]
     },
     "metadata": {
      "needs_background": "light"
     },
     "output_type": "display_data"
    }
   ],
   "source": [
    "grouped = covid_data_pre_disease.groupby([\"faixa_etaria\", \"mes_ano\"]).agg({\"obito\": \"sum\"}).reset_index()\n",
    "grouped[\"obitos_cumsum\"] = grouped.groupby(\"faixa_etaria\")[\"obito\"].cumsum()\n",
    "sns.lineplot(x=\"mes_ano\", y=\"obitos_cumsum\", hue=\"faixa_etaria\", data=grouped)"
   ]
  },
  {
   "cell_type": "code",
   "execution_count": null,
   "id": "pleased-latitude",
   "metadata": {},
   "outputs": [],
   "source": []
  }
 ],
 "metadata": {
  "kernelspec": {
   "display_name": "Python 3",
   "language": "python",
   "name": "python3"
  },
  "language_info": {
   "codemirror_mode": {
    "name": "ipython",
    "version": 3
   },
   "file_extension": ".py",
   "mimetype": "text/x-python",
   "name": "python",
   "nbconvert_exporter": "python",
   "pygments_lexer": "ipython3",
   "version": "3.8.5"
  }
 },
 "nbformat": 4,
 "nbformat_minor": 5
}
